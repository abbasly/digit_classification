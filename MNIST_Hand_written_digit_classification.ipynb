{
  "nbformat": 4,
  "nbformat_minor": 0,
  "metadata": {
    "kernelspec": {
      "display_name": "Python 3",
      "language": "python",
      "name": "python3"
    },
    "language_info": {
      "codemirror_mode": {
        "name": "ipython",
        "version": 3
      },
      "file_extension": ".py",
      "mimetype": "text/x-python",
      "name": "python",
      "nbconvert_exporter": "python",
      "pygments_lexer": "ipython3",
      "version": "3.6.9"
    },
    "colab": {
      "name": "MNIST Hand-written digit classification.ipynb",
      "provenance": [],
      "include_colab_link": true
    }
  },
  "cells": [
    {
      "cell_type": "markdown",
      "metadata": {
        "id": "view-in-github",
        "colab_type": "text"
      },
      "source": [
        "<a href=\"https://colab.research.google.com/github/abbasly/digit_classification/blob/master/MNIST_Hand_written_digit_classification.ipynb\" target=\"_parent\"><img src=\"https://colab.research.google.com/assets/colab-badge.svg\" alt=\"Open In Colab\"/></a>"
      ]
    },
    {
      "cell_type": "markdown",
      "metadata": {
        "id": "OvaSz17e2E3t"
      },
      "source": [
        "# MNIST Hand-written digit classification\n",
        "\n"
      ]
    },
    {
      "cell_type": "code",
      "metadata": {
        "id": "qURG6vJi2E3w",
        "colab": {
          "base_uri": "https://localhost:8080/",
          "height": 80
        },
        "outputId": "4b9b5ed0-11a2-4b58-837e-420365658160"
      },
      "source": [
        "from __future__ import print_function\n",
        "from collections import namedtuple\n",
        "from functools import partial\n",
        "\n",
        "import numpy as np\n",
        "import tensorflow as tf\n",
        "import matplotlib.pyplot as plt\n",
        "import time\n",
        "\n",
        "from tensorflow.examples.tutorials.mnist import input_data\n",
        "from tensorflow.python.training import moving_averages\n",
        "\n",
        "tf.logging.set_verbosity(tf.logging.ERROR)"
      ],
      "execution_count": null,
      "outputs": [
        {
          "output_type": "display_data",
          "data": {
            "text/html": [
              "<p style=\"color: red;\">\n",
              "The default version of TensorFlow in Colab will soon switch to TensorFlow 2.x.<br>\n",
              "We recommend you <a href=\"https://www.tensorflow.org/guide/migrate\" target=\"_blank\">upgrade</a> now \n",
              "or ensure your notebook will continue to use TensorFlow 1.x via the <code>%tensorflow_version 1.x</code> magic:\n",
              "<a href=\"https://colab.research.google.com/notebooks/tensorflow_version.ipynb\" target=\"_blank\">more info</a>.</p>\n"
            ],
            "text/plain": [
              "<IPython.core.display.HTML object>"
            ]
          },
          "metadata": {
            "tags": []
          }
        }
      ]
    },
    {
      "cell_type": "markdown",
      "metadata": {
        "id": "jzJRprAY2E3z"
      },
      "source": [
        "## 1. Prepare the data\n",
        "### <a href=http://yann.lecun.com/exdb/mnist/>MNIST dataset</a>\n",
        "The MNIST has a training set of 55,000 examples, a validation set of 5,000 examples and a test set of 10,000 examples."
      ]
    },
    {
      "cell_type": "code",
      "metadata": {
        "id": "f7tvTOzg2E30",
        "colab": {
          "base_uri": "https://localhost:8080/",
          "height": 153
        },
        "outputId": "d04f0beb-e5d9-4ffb-9b21-209490352758"
      },
      "source": [
        "mnist = input_data.read_data_sets('./data/', one_hot=True)"
      ],
      "execution_count": null,
      "outputs": [
        {
          "output_type": "stream",
          "text": [
            "Successfully downloaded train-images-idx3-ubyte.gz 9912422 bytes.\n",
            "Extracting ./data/train-images-idx3-ubyte.gz\n",
            "Successfully downloaded train-labels-idx1-ubyte.gz 28881 bytes.\n",
            "Extracting ./data/train-labels-idx1-ubyte.gz\n",
            "Successfully downloaded t10k-images-idx3-ubyte.gz 1648877 bytes.\n",
            "Extracting ./data/t10k-images-idx3-ubyte.gz\n",
            "Successfully downloaded t10k-labels-idx1-ubyte.gz 4542 bytes.\n",
            "Extracting ./data/t10k-labels-idx1-ubyte.gz\n"
          ],
          "name": "stdout"
        }
      ]
    },
    {
      "cell_type": "markdown",
      "metadata": {
        "id": "OABoBsq-2E32"
      },
      "source": [
        "Load the training dataset"
      ]
    },
    {
      "cell_type": "code",
      "metadata": {
        "id": "eKL3n9mK2E33"
      },
      "source": [
        "train_images = mnist.train.images[:1000]\n",
        "train_labels = mnist.train.labels[:1000]\n",
        "train_images = train_images.reshape([-1, 28, 28, 1])"
      ],
      "execution_count": null,
      "outputs": []
    },
    {
      "cell_type": "markdown",
      "metadata": {
        "id": "bxqrwE9U2E35"
      },
      "source": [
        "Load the validation sets"
      ]
    },
    {
      "cell_type": "code",
      "metadata": {
        "id": "-UZ_-aQF2E36"
      },
      "source": [
        "val_images = mnist.validation.images\n",
        "val_labels = mnist.validation.labels\n",
        "val_images = val_images.reshape([-1, 28, 28, 1])"
      ],
      "execution_count": null,
      "outputs": []
    },
    {
      "cell_type": "markdown",
      "metadata": {
        "id": "fSO5D74a2E39"
      },
      "source": [
        "Plot the 1st hand-written digit and its one-hot label"
      ]
    },
    {
      "cell_type": "code",
      "metadata": {
        "id": "bLNI7r_B2E3-",
        "colab": {
          "base_uri": "https://localhost:8080/",
          "height": 316
        },
        "outputId": "16ae5de6-f483-46a4-aa40-b2caebc66cb2"
      },
      "source": [
        "plt.imshow(train_images[0,:,:,0], cmap='Greys')\n",
        "print(\"\\nOne-hot labels for this image:\")\n",
        "print(train_labels[0])"
      ],
      "execution_count": null,
      "outputs": [
        {
          "output_type": "stream",
          "text": [
            "\n",
            "One-hot labels for this image:\n",
            "[0. 0. 0. 0. 0. 0. 0. 1. 0. 0.]\n"
          ],
          "name": "stdout"
        },
        {
          "output_type": "display_data",
          "data": {
            "image/png": "[encoded data removed]",
            "text/plain": [
              "<Figure size 432x288 with 1 Axes>"
            ]
          },
          "metadata": {
            "tags": []
          }
        }
      ]
    },
    {
      "cell_type": "markdown",
      "metadata": {
        "id": "V1-2Y8ov2E3_"
      },
      "source": [
        "## 2. Build a graph for VGGNet (Oxford, 2014)\n",
        "Very Deep Convolutional Networks for Large-scale image recognition\n",
        "https://arxiv.org/abs/1409.1556\n",
        "\n",
        "<img src=\"img/fig2.png\">"
      ]
    },
    {
      "cell_type": "markdown",
      "metadata": {
        "id": "KolxK5HN2E4A"
      },
      "source": [
        "### Set hyperparameters\n",
        "- ***log_dir*** : Directory name to save models\n",
        "- ***n_epochs*** : Maximun training epoch\n",
        "- ***n_outputs*** : The number of classes for labels\n",
        "- ***init_lr*** : Learning rate for gradient descent\n",
        "- ***l2_lambda*** : regularization parameter\n",
        "- ***batch_size*** : The number of images to update paramerters once"
      ]
    },
    {
      "cell_type": "code",
      "metadata": {
        "id": "ZI35gp-B2E4B"
      },
      "source": [
        "log_dir = 'logs/'\n",
        "n_epochs = 20\n",
        "n_outputs = 10\n",
        "init_lr = 0.01\n",
        "batch_size = 100\n",
        "l2_lambda = 0.0001"
      ],
      "execution_count": null,
      "outputs": []
    },
    {
      "cell_type": "markdown",
      "metadata": {
        "id": "fTQJcwYC2E4E"
      },
      "source": [
        "### Placeholder for learning rate, input images and labels"
      ]
    },
    {
      "cell_type": "code",
      "metadata": {
        "id": "8Vy-F82m2E4E"
      },
      "source": [
        "lrn_rate = tf.placeholder(tf.float32, shape=(), name='lrn_rate')\n",
        "images = tf.placeholder(tf.float32, shape=(None, 28, 28, 1), name='images')\n",
        "labels = tf.placeholder(tf.int32, shape=(None), name='labels')"
      ],
      "execution_count": null,
      "outputs": []
    },
    {
      "cell_type": "code",
      "metadata": {
        "id": "KMoz36292E4G"
      },
      "source": [
        "def vggnet(images, labels=None):\n",
        "    vggnet_conv = partial(tf.layers.conv2d, kernel_regularizer=tf.contrib.layers.l2_regularizer(l2_lambda), padding=\"SAME\")\n",
        "    \n",
        "    ''' 1st conv. '''\n",
        "    x1 = vggnet_conv(images, filters=16, kernel_size=7, strides=[1,1])  # 7x7 filter, # of filters: 16, stride: 1\n",
        "    x1 = tf.layers.batch_normalization(x1, name='bn1')                   # batch normalization\n",
        "    x1 = tf.nn.relu(x1)                                                  # ReLU activation\n",
        "    \n",
        "    ''' 2nd conv.'''\n",
        "    x2 = vggnet_conv(x1, filters=16, kernel_size=3, strides=[1,1])       # 3x3 filter, # of filters: 16, stride 1\n",
        "    x2 = tf.layers.batch_normalization(x2, name='bn2')                   # batch normalization\n",
        "    x2 = tf.nn.relu(x2)                                                  # ReLU activation\n",
        "    x2 = tf.layers.average_pooling2d(x2, pool_size=[2,2], strides=[2,2]) # 2x2 average pooling, stride: 2\n",
        "    \n",
        "    ''' 3rd conv. '''\n",
        "    a = vggnet_conv(x1, filters=16, kernel_size=3, strides=[2, 2])      # 3x3 filter, # of filters: 16, stride: 2\n",
        "    a = tf.layers.batch_normalization(a, name='bn3')                   # batch normalization\n",
        "    a = tf.nn.relu(a)                                                  # ReLU activation\n",
        "    \n",
        "    x3 = tf.math.add(a,x2)\n",
        "\n",
        "    x4 = x3\n",
        "\n",
        "    x5 = vggnet_conv(x3, filters=16, kernel_size=3, strides=[1,1])       # 3x3 filter, # of filters: 16, stride: 1\n",
        "    x5 = tf.layers.batch_normalization(x5, name='bn5')                   # batch normalization\n",
        "    x5 = tf.nn.relu(x5)                                                  # ReLU activation\n",
        " \n",
        "\n",
        "    x6 = tf.concat([x5, x4],3 )\n",
        "\n",
        "\n",
        "    ''' 6th conv. '''\n",
        "    x6 = vggnet_conv(x1, filters=32, kernel_size=3, strides=[1,1])       # 3x3 filter, # of filters: 32, stride: 1\n",
        "    x6 = tf.layers.batch_normalization(x6, name='bn6')                   # batch normalization\n",
        "    x6 = tf.nn.relu(x6)                                                  # ReLU activation\n",
        "    \n",
        "    img_feat = tf.reduce_mean(x6, [1, 2])                               # Global average pooling\n",
        "    return img_feat"
      ],
      "execution_count": null,
      "outputs": []
    },
    {
      "cell_type": "markdown",
      "metadata": {
        "id": "-WQb-xfm2E4I"
      },
      "source": [
        "### Build a model"
      ]
    },
    {
      "cell_type": "code",
      "metadata": {
        "id": "6i66796F2E4J"
      },
      "source": [
        "global_step = tf.Variable(0, trainable=False)\n",
        "\n",
        "with tf.variable_scope('embed') as scope:\n",
        "#     feats = simple_network(images)\n",
        "    feats = vggnet(images)\n",
        "\n",
        "## Reshape\n",
        "feats = tf.reshape(feats, [batch_size, 32])\n",
        "    \n",
        "## Logits\n",
        "logits = tf.layers.dense(feats, n_outputs, kernel_initializer=tf.uniform_unit_scaling_initializer(factor=2.0), \n",
        "                                               kernel_regularizer=tf.contrib.layers.l2_regularizer(l2_lambda))\n",
        "\n",
        "## Evaluation\n",
        "correct = tf.nn.in_top_k(logits, labels, 1)\n",
        "accuracy = tf.reduce_mean(tf.cast(correct, tf.float32))\n",
        "\n",
        "## SOFTMAX\n",
        "preds = tf.nn.softmax(logits)\n",
        "\n",
        "## Cost function\n",
        "cent = tf.nn.softmax_cross_entropy_with_logits_v2(logits=logits, labels=labels)\n",
        "cost_cls = tf.reduce_mean(cent, name='cent')"
      ],
      "execution_count": null,
      "outputs": []
    },
    {
      "cell_type": "markdown",
      "metadata": {
        "id": "E6UCnShc2E4L"
      },
      "source": [
        "### L2 regularization"
      ]
    },
    {
      "cell_type": "code",
      "metadata": {
        "id": "yYiiiEh62E4L"
      },
      "source": [
        "reg_losses = tf.get_collection(tf.GraphKeys.REGULARIZATION_LOSSES)\n",
        "cost = tf.add_n([cost_cls] + reg_losses)"
      ],
      "execution_count": null,
      "outputs": []
    },
    {
      "cell_type": "markdown",
      "metadata": {
        "id": "mFUzAV9E2E4N"
      },
      "source": [
        "### Momentum optimizer"
      ]
    },
    {
      "cell_type": "code",
      "metadata": {
        "id": "-Q2MkWyZ2E4O"
      },
      "source": [
        "lr  = tf.train.exponential_decay(init_lr, global_step, 1000, 0.8, staircase = True) # learning rate decay\n",
        "optimizer = tf.train.MomentumOptimizer(lr, 0.9, use_nesterov=True)                  # Momentum optimizer\n",
        "train_op = optimizer.minimize(cost)"
      ],
      "execution_count": null,
      "outputs": []
    },
    {
      "cell_type": "markdown",
      "metadata": {
        "id": "DTpr8qB42E4R"
      },
      "source": [
        "# 3. Train a model"
      ]
    },
    {
      "cell_type": "markdown",
      "metadata": {
        "id": "xQOH6fT52E4S"
      },
      "source": [
        "### Create a session and initialize parameters\n",
        "Tensorflow operations must be executed in the session."
      ]
    },
    {
      "cell_type": "code",
      "metadata": {
        "id": "0wIiZN_W2E4S"
      },
      "source": [
        "## MAKE SESSION\n",
        "sess = tf.Session()\n",
        "\n",
        "## INITIALIZE SESSION\n",
        "sess.run(tf.global_variables_initializer())"
      ],
      "execution_count": null,
      "outputs": []
    },
    {
      "cell_type": "markdown",
      "metadata": {
        "id": "NoCz3nzo2E4U"
      },
      "source": [
        "### Updates parameters with back-propagation"
      ]
    },
    {
      "cell_type": "code",
      "metadata": {
        "id": "uGrALID42E4V",
        "colab": {
          "base_uri": "https://localhost:8080/",
          "height": 476
        },
        "outputId": "ffc6cdd9-14d5-4208-e65a-d4949ec9e788"
      },
      "source": [
        "for epoch in range(n_epochs+1):\n",
        "    for iteration in range(mnist.train.num_examples // batch_size):\n",
        "        start_time = time.time()\n",
        "        \n",
        "        X_batch, y_batch = mnist.train.next_batch(batch_size)\n",
        "        X_batch = X_batch.reshape([-1, 28, 28, 1])\n",
        "        (_, loss, loss_cls, prediction) = sess.run([train_op, cost, cost_cls, preds], \n",
        "                                                    feed_dict={images: X_batch, labels: y_batch})\n",
        "        duration = time.time() - start_time\n",
        "        sec_per_batch = float(duration)\n",
        "    \n",
        "    ## Training accuracy every one epoch\n",
        "    acc_train = accuracy.eval(session=sess, feed_dict={images: X_batch, labels: np.argmax(y_batch, axis=1)})\n",
        "    if epoch % 1 == 0:\n",
        "        print('  [*] TRAINING Iteration %d, Loss: %.4f, Acc: %.4f (duration: %.3fs)'\n",
        "                             % (epoch, loss_cls, acc_train, sec_per_batch))\n",
        "\n",
        "    ## Validation accuracy every 5 epochs\n",
        "    if epoch % 5 == 0:\n",
        "        acc_val = accuracy.eval(session=sess, feed_dict={images: val_images, labels: np.argmax(val_labels, axis=1)})\n",
        "        print('  [*] VALIDATION ACC: %.3f' % acc_val)\n",
        "\n",
        "print('Optimization done.')"
      ],
      "execution_count": null,
      "outputs": [
        {
          "output_type": "stream",
          "text": [
            "  [*] TRAINING Iteration 0, Loss: 1.8534, Acc: 0.3600 (duration: 0.161s)\n",
            "  [*] VALIDATION ACC: 0.258\n",
            "  [*] TRAINING Iteration 1, Loss: 1.5118, Acc: 0.5400 (duration: 0.168s)\n",
            "  [*] TRAINING Iteration 2, Loss: 0.7992, Acc: 0.7700 (duration: 0.165s)\n",
            "  [*] TRAINING Iteration 3, Loss: 0.3901, Acc: 0.8800 (duration: 0.164s)\n",
            "  [*] TRAINING Iteration 4, Loss: 0.4139, Acc: 0.8800 (duration: 0.164s)\n",
            "  [*] TRAINING Iteration 5, Loss: 0.2555, Acc: 0.9200 (duration: 0.167s)\n",
            "  [*] VALIDATION ACC: 0.912\n",
            "  [*] TRAINING Iteration 6, Loss: 0.5026, Acc: 0.8300 (duration: 0.166s)\n",
            "  [*] TRAINING Iteration 7, Loss: 0.2297, Acc: 0.9200 (duration: 0.165s)\n",
            "  [*] TRAINING Iteration 8, Loss: 0.1402, Acc: 0.9700 (duration: 0.167s)\n",
            "  [*] TRAINING Iteration 9, Loss: 0.2759, Acc: 0.9200 (duration: 0.163s)\n",
            "  [*] TRAINING Iteration 10, Loss: 0.3089, Acc: 0.9500 (duration: 0.166s)\n",
            "  [*] VALIDATION ACC: 0.949\n",
            "  [*] TRAINING Iteration 11, Loss: 0.1100, Acc: 0.9800 (duration: 0.163s)\n",
            "  [*] TRAINING Iteration 12, Loss: 0.1525, Acc: 0.9400 (duration: 0.167s)\n",
            "  [*] TRAINING Iteration 13, Loss: 0.2231, Acc: 0.9800 (duration: 0.165s)\n",
            "  [*] TRAINING Iteration 14, Loss: 0.0605, Acc: 0.9900 (duration: 0.167s)\n",
            "  [*] TRAINING Iteration 15, Loss: 0.1348, Acc: 0.9500 (duration: 0.163s)\n",
            "  [*] VALIDATION ACC: 0.963\n",
            "  [*] TRAINING Iteration 16, Loss: 0.1797, Acc: 0.9500 (duration: 0.164s)\n",
            "  [*] TRAINING Iteration 17, Loss: 0.1440, Acc: 0.9800 (duration: 0.168s)\n",
            "  [*] TRAINING Iteration 18, Loss: 0.1882, Acc: 0.9600 (duration: 0.166s)\n",
            "  [*] TRAINING Iteration 19, Loss: 0.1371, Acc: 0.9600 (duration: 0.167s)\n",
            "  [*] TRAINING Iteration 20, Loss: 0.0993, Acc: 0.9800 (duration: 0.164s)\n",
            "  [*] VALIDATION ACC: 0.965\n",
            "Optimization done.\n"
          ],
          "name": "stdout"
        }
      ]
    },
    {
      "cell_type": "markdown",
      "metadata": {
        "id": "TJWXl8vO2E4X"
      },
      "source": [
        "# 4. Test a model"
      ]
    },
    {
      "cell_type": "markdown",
      "metadata": {
        "id": "9pUxJgKs2E4X"
      },
      "source": [
        "### Load the test images and labels"
      ]
    },
    {
      "cell_type": "code",
      "metadata": {
        "id": "xkKDWOpz2E4Y",
        "colab": {
          "base_uri": "https://localhost:8080/",
          "height": 316
        },
        "outputId": "90beed14-fe67-47fd-f822-e4eb0aa7aa0d"
      },
      "source": [
        "## READ MNIST INPUTS\n",
        "test_images = mnist.test.images\n",
        "test_labels = mnist.test.labels\n",
        "test_images = test_images.reshape([-1, 28, 28, 1])\n",
        "\n",
        "## Plot the 1st test image and label\n",
        "plt.imshow(test_images[0,:,:,0], cmap='Greys')\n",
        "print(\"\\nOne-hot labels for this image:\")\n",
        "print(test_labels[0])"
      ],
      "execution_count": null,
      "outputs": [
        {
          "output_type": "stream",
          "text": [
            "\n",
            "One-hot labels for this image:\n",
            "[0. 0. 0. 0. 0. 0. 0. 1. 0. 0.]\n"
          ],
          "name": "stdout"
        },
        {
          "output_type": "display_data",
          "data": {
            "image/png": "[encoded data removed]",
            "text/plain": [
              "<Figure size 432x288 with 1 Axes>"
            ]
          },
          "metadata": {
            "tags": []
          }
        }
      ]
    },
    {
      "cell_type": "markdown",
      "metadata": {
        "id": "Jk-RW7dP2E4a"
      },
      "source": [
        "### Check the prediction for the first image"
      ]
    },
    {
      "cell_type": "code",
      "metadata": {
        "id": "wHaFXQVg2E4a",
        "colab": {
          "base_uri": "https://localhost:8080/",
          "height": 34
        },
        "outputId": "b6b107fa-beb6-497b-e51c-0886d0670929"
      },
      "source": [
        "prediction = sess.run(preds, feed_dict={images: test_images[0,:,:,0].reshape(1,28,28,1), labels: test_labels[0]})\n",
        "\n",
        "print(\"The prediction of the network is: %d\" % np.argmax(prediction))"
      ],
      "execution_count": null,
      "outputs": [
        {
          "output_type": "stream",
          "text": [
            "The prediction of the network is: 7\n"
          ],
          "name": "stdout"
        }
      ]
    },
    {
      "cell_type": "markdown",
      "metadata": {
        "id": "vL-j_ndn2E4d"
      },
      "source": [
        "### Average the accuray for test set"
      ]
    },
    {
      "cell_type": "code",
      "metadata": {
        "id": "7ZPVcFfB2E4e",
        "colab": {
          "base_uri": "https://localhost:8080/",
          "height": 34
        },
        "outputId": "f2b00faf-654d-436a-e7b0-b77cc3c71492"
      },
      "source": [
        "test_acc = accuracy.eval(session=sess, feed_dict={images: test_images, labels: np.argmax(test_labels, axis=1)})\n",
        "print('Acc: %.3f' % test_acc)"
      ],
      "execution_count": null,
      "outputs": [
        {
          "output_type": "stream",
          "text": [
            "Acc: 0.966\n"
          ],
          "name": "stdout"
        }
      ]
    }
  ]
}